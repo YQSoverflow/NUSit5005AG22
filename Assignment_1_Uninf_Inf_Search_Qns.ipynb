{
 "cells": [
  {
   "cell_type": "markdown",
   "metadata": {
    "id": "1a_O3hT0JDXf"
   },
   "source": [
    "Group Name: AG 22.\n",
    "\n",
    "Student Name (Student ID):\n",
    "\n",
    "1. Yang Qingshan (A0162526H)\n",
    "\n",
    "2. xxxx xxxxx (xxxxxxx)\n",
    "\n",
    "3. xxxx xxxxx (xxxxxxx)\n",
    "\n",
    "4. xxxx xxxxx (xxxxxxx)"
   ]
  },
  {
   "cell_type": "markdown",
   "metadata": {
    "id": "Ho8XMSP2JDXq"
   },
   "source": [
    "# Question 1\n",
    "\n",
    "Consider the maze shown below. The Maze has 16 rows and 24 columns The objective is to find a shortest path from cell $S$ to cell $G$.\n",
    "\n",
    "\n",
    "![Maze](Maze.jpg)\n",
    "\n",
    "\n",
    "The agent can take four actions in each cell: 'RIGHT', 'DOWN', 'UP', 'LEFT'.  \n",
    "\n",
    "Each cell is represented as $(x,y)$, where $x$ indicates row number and $y$ indicates column number. Action 'UP' takes the agent from cell $(x,y)$ to $(x+1,y)$. Action 'DOWN' takes the agent from cell $(x,y)$ to $(x-1,y)$. Action 'RIGHT' takes the agent from cell $(x,y)$ to $(x,y+1)$. Action 'LEFT' takes the agent from cell $(x,y)$ to $(x,y-1)$. The triplet $(s,a,s')$  indicates that taking action $a$ at state $s$ leads to state $s'$. Actions 'LEFT' or 'RIGHT' cost 10 units for all $(s,a,s')$. Actions 'UP' or 'DOWN' cost 1 unit for all  $(s,a,s')$.  The agent cannot move into cells that are shaded. Assume that the agent knows the boundaries of the maze and has full observability. Consequently, at the bottom (row 0) and top (row 15), the agent will not take actions 'DOWN' and 'UP', respectively; at left (column 0) and right (column 23) columns, the agent will not take 'LEFT' and 'RIGHT' actions, respectively. Similalry, the agent will not take actions that lead to shaded region in the maze."
   ]
  },
  {
   "cell_type": "markdown",
   "metadata": {},
   "source": [
    "## **Q1.a: Class Maze(Problem)** [5 Marks]\n",
    "\n",
    "Write a Maze class to create a model for this problem. You should not use an explicit state space model. The modelling should inherit the abstract class 'Problem' (given below). With the problem formulation, find the shortest path from S to G cell. Propose and implement multiple heuristics (at least two heuristics) for informed search algorithms."
   ]
  },
  {
   "cell_type": "markdown",
   "metadata": {
    "id": "IQJTwtm6JDXs"
   },
   "source": [
    "## **Q1.b: Analysis of the Algorithms** [5 Marks]\n",
    "\n",
    "1. Solve the above Maze problem using the following algorithms\n",
    "\n",
    "    a. Breadth-First Search\n",
    "\n",
    "    b. Depth-First Search with Cycle-Check\n",
    "\n",
    "    c. Iterative-Deepening Search with Cycle-Check\n",
    "\n",
    "    d. Uniform-Cost Search\n",
    "\n",
    "    e. A* Search \n",
    "\n",
    "    f. Greedy Best-first Search\n",
    "\n",
    "2. Identify the number of number of expanded nodes, maximum frontier size, and path-cost for the above algorithms.  Summarize the statistics in the form of a table.\n",
    " \n",
    "3. Compare the performance of informed search algorithms with proposed heuristics. Identify the best performing heuristic and explain.\n",
    " \n",
    "\n",
    "Note 1: You must follow the problem formulation discussed in the class. A abstract class for Problem amd Node definition is presented below. The search tree generation should follow the template discussed in the class (i.e., Node class, expand methods, etc.). \n",
    "\n",
    "Note 2: The code should be written in a single jupyter notebook file."
   ]
  },
  {
   "cell_type": "code",
   "execution_count": 1,
   "metadata": {
    "id": "uG30krXtJDXv"
   },
   "outputs": [],
   "source": [
    "import matplotlib.pyplot as plt\n",
    "import random\n",
    "import heapq\n",
    "import math\n",
    "import sys\n",
    "from collections import defaultdict, deque, Counter\n",
    "from itertools import combinations\n",
    "\n",
    "\n",
    "class Problem:\n",
    "    \"\"\"The abstract class for a formal problem. A new domain subclasses this,\n",
    "    overriding `actions` and `results`, and perhaps other methods.\n",
    "    The default heuristic is 0 and the default action cost is 1 for all states.\n",
    "    When you create an instance of a subclass, specify `initial`, and `goal` states \n",
    "    (or give an `is_goal` method) and perhaps other keyword args for the subclass.\"\"\"\n",
    "\n",
    "    def __init__(self, initial=None, goal=None, **kwds): \n",
    "        self.__dict__.update(initial=initial, goal=goal, **kwds) \n",
    "        \n",
    "    def actions(self, state):        raise NotImplementedError\n",
    "    def result(self, state, action): raise NotImplementedError\n",
    "    def is_goal(self, state):        return state == self.goal\n",
    "    def action_cost(self, s, a, s1): return 1\n",
    "    def h(self, node):               return 0\n",
    "    \n",
    "    def __str__(self):\n",
    "        return '{}({!r}, {!r})'.format(\n",
    "            type(self).__name__, self.initial, self.goal)"
   ]
  },
  {
   "cell_type": "code",
   "execution_count": 2,
   "metadata": {
    "id": "F1qsU3yzJDXy"
   },
   "outputs": [],
   "source": [
    "# Use the following Node class to generate search tree\n",
    "import math\n",
    "class Node:\n",
    "    \"A Node in a search tree.\"\n",
    "    def __init__(self, state, parent=None, action=None, path_cost=0):\n",
    "        self.__dict__.update(state=state, parent=parent, action=action, path_cost=path_cost)\n",
    "\n",
    "    def __repr__(self): return '<{}>'.format(self.state)\n",
    "    def __len__(self): return 0 if self.parent is None else (1 + len(self.parent))\n",
    "    def __lt__(self, other): return self.path_cost < other.path_cost \n"
   ]
  },
  {
   "cell_type": "code",
   "execution_count": 3,
   "metadata": {},
   "outputs": [],
   "source": [
    "failure = Node('failure', path_cost=math.inf) \n",
    "cutoff  = Node('cutoff',  path_cost=math.inf) \n",
    "  \n",
    "def expand(problem, node):\n",
    "    \"Expand a node, generating the children nodes.\"\n",
    "    s = node.state\n",
    "    for action in problem.actions(s):\n",
    "        s1 = problem.result(s, action)\n",
    "        cost = node.path_cost + problem.action_cost(s, action, s1)\n",
    "        yield Node(s1, node, action, cost)\n",
    "        \n",
    "\n",
    "def path_actions(node):\n",
    "    \"The sequence of actions to get to this node.\"\n",
    "    if node.parent is None:\n",
    "        return []  \n",
    "    return path_actions(node.parent) + [node.action]\n",
    "\n",
    "\n",
    "def path_states(node):\n",
    "    \"The sequence of states to get to this node.\"\n",
    "    if node in (cutoff, failure, None): \n",
    "        return []\n",
    "    return path_states(node.parent) + [node.state]"
   ]
  },
  {
   "cell_type": "code",
   "execution_count": 4,
   "metadata": {},
   "outputs": [],
   "source": [
    "FIFOQueue = deque\n",
    "LIFOQueue = list\n",
    "\n",
    "\n",
    "class PriorityQueue:\n",
    "    \"\"\"A queue in which the item with minimum f(item) is always popped first.\"\"\"\n",
    "\n",
    "    def __init__(self, items=(), key=lambda x: x): \n",
    "        self.key = key\n",
    "        self.items = [] \n",
    "        for item in items:\n",
    "            self.add(item)\n",
    "         \n",
    "    def add(self, item):\n",
    "        \"\"\"Add item to the queuez.\"\"\"\n",
    "        pair = (self.key(item), item)\n",
    "        heapq.heappush(self.items, pair)\n",
    "\n",
    "    def pop(self):\n",
    "        \"\"\"Pop and return the item with min f(item) value.\"\"\"\n",
    "        return heapq.heappop(self.items)[1]\n",
    "    \n",
    "    def top(self): return self.items[0][1]\n",
    "\n",
    "    def __len__(self): return len(self.items)"
   ]
  },
  {
   "cell_type": "markdown",
   "metadata": {},
   "source": [
    "## **Q1.a: Class Maze(Problem)** [5 Marks]\n",
    "\n",
    "Write a Maze class to create a model for this problem. You should not use an explicit state space model. The modelling should inherit the abstract class 'Problem' (given below). With the problem formulation, find the shortest path from S to G cell. Propose and implement multiple heuristics (at least two heuristics) for informed search algorithms."
   ]
  },
  {
   "cell_type": "code",
   "execution_count": 5,
   "metadata": {
    "id": "uvB_5QSvJDXz"
   },
   "outputs": [],
   "source": [
    "# ==== Q1.a: Maze model ====\n",
    "MAZE_ROWS    = 16\n",
    "MAZE_COLUMNS = 24\n",
    "ACTIONS      = {'UP', 'LEFT', 'RIGHT', 'DOWN'}\n",
    "MOVE_DELTA = {\n",
    "    'UP':    ( 1,  0),\n",
    "    'DOWN':  (-1,  0),\n",
    "    'RIGHT': ( 0,  1),\n",
    "    'LEFT':  ( 0, -1),\n",
    "}\n",
    "\n",
    "\n",
    "def in_bounds(r, c):\n",
    "    return 0 <= r < MAZE_ROWS and 0 <= c < MAZE_COLUMNS\n",
    "\n",
    "\n",
    "class Maze(Problem):\n",
    "    def __init__(self, initial=None, goal=None, walls=None, heuristic='h1'):\n",
    "        super().__init__(initial=initial, goal=goal)\n",
    "        self.walls = set() if walls is None else set(walls)\n",
    "        self.heuristic = heuristic  \n",
    "\n",
    "    def h1_weighted_manhattan(self, node):\n",
    "        r, c   = node.state\n",
    "        rg, cg = self.goal\n",
    "        return abs(r - rg) * 1 + abs(c - cg) * 10\n",
    "\n",
    "    def h2_weighted_chebyshev(self, node):\n",
    "        r, c   = node.state\n",
    "        rg, cg = self.goal\n",
    "        return max(abs(r - rg) * 1, abs(c - cg) * 10)\n",
    "\n",
    "    def h(self, node):\n",
    "        if self.heuristic == 'h2':\n",
    "            return self.h2_weighted_chebyshev(node)\n",
    "    \n",
    "        return self.h1_weighted_manhattan(node)\n",
    "\n",
    "    # ---------- Transition model ----------\n",
    "    def action_cost(self, s, a, s1):\n",
    "        return 10 if a in ('LEFT', 'RIGHT') else 1\n",
    "\n",
    "    def result(self, state, action):\n",
    "        dr, dc = MOVE_DELTA[action]\n",
    "        r, c = state\n",
    "        return (r + dr, c + dc)\n",
    "\n",
    "    def actions(self, state):\n",
    "        r, c = state\n",
    "        possible = set()\n",
    "        for a in ACTIONS:\n",
    "            dr, dc = MOVE_DELTA[a]\n",
    "            nr, nc = r + dr, c + dc\n",
    "            if in_bounds(nr, nc) and (nr, nc) not in self.walls:\n",
    "                possible.add(a)\n",
    "        return possible\n"
   ]
  },
  {
   "cell_type": "markdown",
   "metadata": {},
   "source": [
    "### Testing the model"
   ]
  },
  {
   "cell_type": "code",
   "execution_count": 6,
   "metadata": {},
   "outputs": [
    {
     "name": "stdout",
     "output_type": "stream",
     "text": [
      "(5, 12)\n",
      "1\n",
      "{'LEFT', 'UP', 'RIGHT', 'DOWN'}\n"
     ]
    }
   ],
   "source": [
    "#Testing Maze class\n",
    "S = (8, 10)\n",
    "G = (11, 8)\n",
    "WALLS = set()\n",
    "WALLS |= {(r, 9) for r in range(6, 15)}        \n",
    "WALLS |= {(r, 10) for r in range(10, 14)}      \n",
    "WALLS |= {(r, c) for r in range(10, 12) for c in range(12, 14)}\n",
    "m1 = Maze(initial=S, goal=G, walls=WALLS, heuristic='h1')\n",
    "\n",
    "# Testing\n",
    "assert m1.result((4,12),'UP') == (5,12)\n",
    "assert m1.action_cost((4,12),'UP',(5,12)) == 1\n",
    "assert m1.actions((4,12)) == {'UP', 'LEFT', 'RIGHT', 'DOWN'}\n",
    "print(m1.result((4,12),'UP'))\n",
    "print(m1.action_cost((4,12),'UP',(5,12)))\n",
    "print(m1.actions((4,12)))\n"
   ]
  },
  {
   "cell_type": "markdown",
   "metadata": {},
   "source": [
    "## **Q1.b: Analysis of the Algorithms** [5 Marks]\n",
    "\n",
    "1. Solve the above Maze problem using the following algorithms\n",
    "\n",
    "    a. Breadth-First Search\n",
    "\n",
    "    b. Depth-First Search with Cycle-Check\n",
    "\n",
    "    c. Iterative-Deepening Search with Cycle-Check\n",
    "\n",
    "    d. Uniform-Cost Search\n",
    "\n",
    "    e. A* Search \n",
    "\n",
    "    f. Greedy Best-first Search"
   ]
  },
  {
   "cell_type": "code",
   "execution_count": 7,
   "metadata": {},
   "outputs": [
    {
     "name": "stdout",
     "output_type": "stream",
     "text": [
      "BFS  →  expanded: 129  max_frontier: 30  path_cost: 29  path_len: 11\n"
     ]
    }
   ],
   "source": [
    "#Your code for breadth-first search\n",
    "from dataclasses import dataclass\n",
    "from collections import deque\n",
    "import math\n",
    "\n",
    "@dataclass\n",
    "class Stats:\n",
    "    expanded: int\n",
    "    max_frontier: int\n",
    "    path_cost: float\n",
    "    path: list\n",
    "\n",
    "def BFS(problem):\n",
    "    root = Node(problem.initial)\n",
    "    if problem.is_goal(root.state):\n",
    "        return Stats(0, 1, 0, [root.state])\n",
    "    frontier = deque([root])\n",
    "    reached = {root.state: 0}\n",
    "    expanded = 0\n",
    "    max_frontier = 1\n",
    "    while frontier:\n",
    "        max_frontier = max(max_frontier, len(frontier))\n",
    "        node = frontier.popleft()\n",
    "        expanded += 1\n",
    "        for child in expand(problem, node):\n",
    "            if child.state not in reached:\n",
    "                if problem.is_goal(child.state):\n",
    "                    return Stats(expanded, max_frontier, child.path_cost, path_states(child))\n",
    "                reached[child.state] = child.path_cost\n",
    "                frontier.append(child)\n",
    "    return Stats(expanded, max_frontier, math.inf, [])\n",
    "\n",
    "bfs_stats = BFS(m1)\n",
    "print(\"BFS  →  expanded:\", bfs_stats.expanded,\n",
    "      \" max_frontier:\", bfs_stats.max_frontier,\n",
    "      \" path_cost:\", bfs_stats.path_cost,\n",
    "      \" path_len:\", len(bfs_stats.path)-1)\n"
   ]
  },
  {
   "cell_type": "code",
   "execution_count": 8,
   "metadata": {},
   "outputs": [
    {
     "name": "stdout",
     "output_type": "stream",
     "text": [
      "DFS  →  expanded: 41447  max_frontier: 39  path_cost: 51  path_len: 15\n"
     ]
    }
   ],
   "source": [
    "#Your code for depth-first search with cycle-check\n",
    "import math\n",
    "\n",
    "def is_cycle(node, k=30):\n",
    "    \"Does this node form a cycle of length k or less?\"\n",
    "    def find_cycle(ancestor, k):\n",
    "        return (ancestor is not None and k > 0 and\n",
    "                (ancestor.state == node.state or find_cycle(ancestor.parent, k - 1)))\n",
    "    return find_cycle(node.parent, k)\n",
    "\n",
    "\n",
    "def DFS_cycle(problem, limit=10):\n",
    "    root = Node(problem.initial)\n",
    "    frontier = [root]                    \n",
    "    expanded = 0\n",
    "    max_frontier = 1\n",
    "    while frontier:\n",
    "        max_frontier = max(max_frontier, len(frontier))\n",
    "        node = frontier.pop()\n",
    "        expanded += 1\n",
    "        if problem.is_goal(node.state):\n",
    "            return Stats(expanded, max_frontier, node.path_cost, path_states(node))\n",
    "        elif len(path_states(node)) > limit:\n",
    "            pass\n",
    "        elif not is_cycle(node):\n",
    "            for child in expand(problem, node):\n",
    "                    frontier.append(child)\n",
    "    return Stats(expanded, max_frontier, math.inf, [])\n",
    "\n",
    "\n",
    "dfs_stats = DFS_cycle(m1, 15)\n",
    "print(\"DFS  →  expanded:\", dfs_stats.expanded,\n",
    "      \" max_frontier:\", dfs_stats.max_frontier,\n",
    "      \" path_cost:\", dfs_stats.path_cost,\n",
    "      \" path_len:\", len(dfs_stats.path)-1 if dfs_stats.path else None)\n"
   ]
  },
  {
   "cell_type": "code",
   "execution_count": 9,
   "metadata": {},
   "outputs": [
    {
     "name": "stdout",
     "output_type": "stream",
     "text": [
      "IDS  →  expanded: 112977  max_frontier: 31  path_cost: 29  path_len: 11\n"
     ]
    }
   ],
   "source": [
    "#Your code for  iterative Deepening search with cycle-check\n",
    "import math\n",
    "\n",
    "def IDS(problem):\n",
    "    prev_stats = None\n",
    "    for limit in range(1, sys.maxsize):\n",
    "        stats = DFS_cycle(problem, limit)\n",
    "        if not prev_stats:\n",
    "            prev_stats = stats\n",
    "        else:\n",
    "            prev_stats.expanded += stats.expanded\n",
    "            prev_stats.max_frontier = max(prev_stats.max_frontier, stats.max_frontier)\n",
    "        if stats.path_cost != math.inf:\n",
    "            stats.expanded = prev_stats.expanded\n",
    "            stats.max_frontier = prev_stats.max_frontier\n",
    "            return stats\n",
    "\n",
    "\n",
    "ids_stats = IDS(m1)\n",
    "print(\"IDS  →  expanded:\", ids_stats.expanded,\n",
    "      \" max_frontier:\", ids_stats.max_frontier,\n",
    "      \" path_cost:\", ids_stats.path_cost,\n",
    "      \" path_len:\", len(ids_stats.path)-1 if ids_stats.path else None)\n"
   ]
  },
  {
   "cell_type": "code",
   "execution_count": 10,
   "metadata": {},
   "outputs": [
    {
     "name": "stdout",
     "output_type": "stream",
     "text": [
      "UCS  →  expanded: 59  max_frontier: 27  path_cost: 29  path_len: 11\n"
     ]
    }
   ],
   "source": [
    "#Your code for uniform-cost search\n",
    "def best_first_search(problem, f):\n",
    "    root = Node(problem.initial)\n",
    "    frontier = PriorityQueue([root], key=f)\n",
    "    reached = {root.state: root}\n",
    "    expanded = 0\n",
    "    max_frontier = 1\n",
    "    while frontier:\n",
    "        max_frontier = max(max_frontier, len(frontier))\n",
    "        node = frontier.pop()\n",
    "        if problem.is_goal(node.state):\n",
    "            return Stats(expanded, max_frontier, node.path_cost, path_states(node))\n",
    "        expanded += 1\n",
    "        for child in expand(problem, node):\n",
    "            s = child.state\n",
    "            if s not in reached or child.path_cost < reached[s].path_cost:\n",
    "                reached[s] = child\n",
    "                frontier.add(child)\n",
    "    return Stats(expanded, max_frontier, math.inf, [])\n",
    "\n",
    "\n",
    "def UCS(problem):\n",
    "    return best_first_search(problem, lambda n: n.path_cost)\n",
    "\n",
    "\n",
    "ucs_stats = UCS(m1)\n",
    "print(\"UCS  →  expanded:\", ucs_stats.expanded,\n",
    "      \" max_frontier:\", ucs_stats.max_frontier,\n",
    "      \" path_cost:\", ucs_stats.path_cost,\n",
    "      \" path_len:\", len(ucs_stats.path)-1 if ucs_stats.path else None)\n"
   ]
  },
  {
   "cell_type": "code",
   "execution_count": 11,
   "metadata": {},
   "outputs": [
    {
     "name": "stdout",
     "output_type": "stream",
     "text": [
      "A* (h1 weighted Manhattan)  →  expanded: 12  max_frontier: 15  path_cost: 29\n",
      "A* (h2 weighted Chebyshev)  →  expanded: 22  max_frontier: 22  path_cost: 29\n"
     ]
    }
   ],
   "source": [
    "#Your code for A* Search\n",
    "def A_star(problem, h):\n",
    "    return best_first_search(problem, lambda n: n.path_cost + h(n))\n",
    "\n",
    "\n",
    "astar_h1 = A_star(m1, m1.h1_weighted_manhattan)\n",
    "astar_h2 = A_star(m1, m1.h2_weighted_chebyshev)\n",
    "print(\"A* (h1 weighted Manhattan)  →  expanded:\", astar_h1.expanded,\n",
    "      \" max_frontier:\", astar_h1.max_frontier, \" path_cost:\", astar_h1.path_cost)\n",
    "print(\"A* (h2 weighted Chebyshev)  →  expanded:\", astar_h2.expanded,\n",
    "      \" max_frontier:\", astar_h2.max_frontier, \" path_cost:\", astar_h2.path_cost)"
   ]
  },
  {
   "cell_type": "code",
   "execution_count": 12,
   "metadata": {},
   "outputs": [
    {
     "name": "stdout",
     "output_type": "stream",
     "text": [
      "GBFS (h1 weighted Manhattan) → expanded: 12  max_frontier: 15  path_cost: 29\n",
      "GBFS (h2 weighted Chebyshev) → expanded: 12  max_frontier: 15  path_cost: 29\n"
     ]
    }
   ],
   "source": [
    "#Your code for greedy-best first search\n",
    "def GBFS(problem, h):\n",
    "    return best_first_search(problem, h)\n",
    "\n",
    "\n",
    "gbfs_h1 = GBFS(m1, m1.h1_weighted_manhattan)\n",
    "gbfs_h2 = GBFS(m1, m1.h2_weighted_chebyshev)\n",
    "print(\"GBFS (h1 weighted Manhattan) → expanded:\", gbfs_h1.expanded,\n",
    "      \" max_frontier:\", gbfs_h1.max_frontier, \" path_cost:\", gbfs_h1.path_cost)\n",
    "print(\"GBFS (h2 weighted Chebyshev) → expanded:\", gbfs_h2.expanded,\n",
    "      \" max_frontier:\", gbfs_h2.max_frontier, \" path_cost:\", gbfs_h2.path_cost)"
   ]
  },
  {
   "cell_type": "markdown",
   "metadata": {},
   "source": [
    "2. Identify the number of number of expanded nodes, maximum frontier size, and path-cost for the above algorithms.  Summarize the statistics in the following table."
   ]
  },
  {
   "cell_type": "markdown",
   "metadata": {},
   "source": [
    "\n",
    " Algorithm             |Number of expanded nodes  | Maximum Frontier Size  |  Path Cost|\n",
    "|:---------------------|:-------------------------|:-----------------------|:----------\n",
    "| Breadth-First Search |129|                      |30                      |29\n",
    "| DFS with cycle check |41447                       |39                     |51\n",
    "| IDS with cycle check |112977                      |31                      |29\n",
    "| UCS                  |59                        |27                      |29\n",
    "| A* Search            |12 (h1) / 22 (h2)         |15 (h1) / 22 (h2)       |29/29\n",
    "| GBFS                 |12 (h1) / 12 (h2)         |15 (h1) / 15 (h2)       |29/29"
   ]
  },
  {
   "cell_type": "markdown",
   "metadata": {},
   "source": [
    "3. Compare the performance of informed search algorithms with proposed heuristics. Identify the best performing heuristic and explain.\n",
    "\n"
   ]
  },
  {
   "cell_type": "markdown",
   "metadata": {},
   "source": [
    "In both A* Search and GBFS, h1 weighted Manhattan shows less expansions, less maximum frontier sizes and achieve same correctness regarding the target 'path cost' compared with h2 weighted Chebyshev.\n",
    "\n",
    "In conclusion, the best heuristic function is h1 weighted Manhattan.\n"
   ]
  }
 ],
 "metadata": {
  "colab": {
   "provenance": []
  },
  "kernelspec": {
   "display_name": "Python 3",
   "language": "python",
   "name": "python3"
  },
  "language_info": {
   "codemirror_mode": {
    "name": "ipython",
    "version": 3
   },
   "file_extension": ".py",
   "mimetype": "text/x-python",
   "name": "python",
   "nbconvert_exporter": "python",
   "pygments_lexer": "ipython3",
   "version": "3.9.6"
  }
 },
 "nbformat": 4,
 "nbformat_minor": 4
}
