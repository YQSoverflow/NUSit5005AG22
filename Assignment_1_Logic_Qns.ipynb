{
 "cells": [
  {
   "cell_type": "markdown",
   "metadata": {},
   "source": [
    "Group Name: AG xx.\n",
    "\n",
    "Student Name (Student ID):\n",
    "\n",
    "1. xxxx xxxxx (xxxxxxx)\n",
    "\n",
    "2. xxxx xxxxx (xxxxxxx)\n",
    "\n",
    "3. xxxx xxxxx (xxxxxxx)\n",
    "\n",
    "4. xxxx xxxxx (xxxxxxx)"
   ]
  },
  {
   "cell_type": "markdown",
   "metadata": {},
   "source": [
    "# **Question 2** \n",
    "\n",
    "Three stooges (namely, Carly, Larry, and Mou) are going to a party. Each wears different colors of suits (blue, green, and white), and they like different types of drinks (orange juice, beer, gimlet). The dress color and drink preferences are as follows. Carly loves orange juice, but hates the white color. Larry hates beer.  All Moe’s suits are blue\n",
    "\n",
    "  \n",
    "## Q2a: Representation\n",
    "\n",
    "Convert the given problem into propositional sentences. Follow the guidelines shown below while defining propositional variables.   [6 Marks]\n",
    "\n",
    "Use three characters to represent propositional variables as 'DXX' and 'CXX'. Description of the characters in the variable is provided below:\n",
    " \n",
    "(i)   'DXX':\n",
    "    \n",
    "       First character 'D' indicates that the variable corresponds to drink\n",
    "    \n",
    "       Second character represents person. \n",
    "    \n",
    "            C: Carly\n",
    "        \n",
    "            L: Larry\n",
    "        \n",
    "            M: Mou\n",
    "    \n",
    "        Third character represents name of specific drink\n",
    "    \n",
    "            O: Orange Juice\n",
    "    \n",
    "            B: Beer\n",
    "    \n",
    "            G: Gimlet\n",
    "\n",
    "        Example:   DCB represents 'Carly likes Beer'  \n",
    "\n",
    "        \n",
    "(ii)   'CXX':\n",
    "\n",
    "            First character 'C' indicates color of the suite\n",
    "        \n",
    "            Second character represents person\n",
    "        \n",
    "                C: Carly\n",
    "        \n",
    "                L: Larry\n",
    "        \n",
    "                M: Mou\n",
    "        \n",
    "            Third character represents name of specific color\n",
    "        \n",
    "                B: Blue\n",
    "        \n",
    "                G: Green\n",
    "        \n",
    "                W: White\n",
    "\n",
    "        Example:    CCB  represents  'Carly likes Blue colored suit'\n",
    "\n",
    "\n",
    "\n",
    "## Q2b: Reasoning\n",
    "\n",
    "Deduce their preference using propositional logic. To this end, solve the following sub-problems. [4 Marks]\n",
    "\n",
    "    (i) Identify (with justification) two inference algorithms among tt_entails, resolution-refutation, forward chaining and backward chaining algorithms to solve this problem.  [1 Marks]\n",
    "    \n",
    "\n",
    "    (ii) Select the best of the two algorithms selected in part (i).  Provide the rationale behind your selection. [1 Marks]\n",
    "\n",
    "    (ii) Solve this problem using the algorithm selected in part (ii)[2 Mark]"
   ]
  },
  {
   "cell_type": "code",
   "execution_count": 3,
   "metadata": {},
   "outputs": [],
   "source": [
    "from logic_ import *\n",
    "from utils import *"
   ]
  },
  {
   "cell_type": "markdown",
   "metadata": {},
   "source": [
    "# Q2a. Representation\n",
    "\n",
    "The variables are defined below"
   ]
  },
  {
   "cell_type": "code",
   "execution_count": 4,
   "metadata": {},
   "outputs": [],
   "source": [
    "#Variables\n",
    "(DCB, DLB, DMB, DCG, DLG, DMG, DCO, DLO, DMO) = expr('DCB, DLB, DMB, DCG, DLG, DMG, DCO, DLO, DMO')\n",
    "(CCB, CLB, CMB, CCG, CLG, CMG, CCW, CLW, CMW) = expr('CCB, CLB, CMB, CCG, CLG, CMG, CCW, CLW, CMW')"
   ]
  },
  {
   "cell_type": "markdown",
   "metadata": {},
   "source": [
    "## Building the KB\n",
    "\n",
    "Convert the following five sentences into propositional sentences."
   ]
  },
  {
   "cell_type": "markdown",
   "metadata": {},
   "source": [
    "### Q2a(i). Each wears different colors of suits (green, blue,  and white) [1.5 Marks]"
   ]
  },
  {
   "cell_type": "code",
   "execution_count": 5,
   "metadata": {},
   "outputs": [],
   "source": [
    "clause_diff_color = [\n",
    "    'CCB | CCG | CCW',\n",
    "    'CLB | CLG | CLW',\n",
    "    'CMB | CMG | CMW',\n",
    "\n",
    "    '~(CCB & CCG)', '~(CCB & CCW)', '~(CCG & CCW)',\n",
    "    '~(CLB & CLG)', '~(CLB & CLW)', '~(CLG & CLW)',\n",
    "    '~(CMB & CMG)', '~(CMB & CMW)', '~(CMG & CMW)',\n",
    "\n",
    "    '~(CCB & CLB)', '~(CCB & CMB)', '~(CLB & CMB)',      # Blue\n",
    "    '~(CCG & CLG)', '~(CCG & CMG)', '~(CLG & CMG)',      # Green\n",
    "    '~(CCW & CLW)', '~(CCW & CMW)', '~(CLW & CMW)'       # White\n",
    "]"
   ]
  },
  {
   "cell_type": "markdown",
   "metadata": {},
   "source": [
    "### Q2a(ii). Each likes different drinks (orange juice, gin and beer)  [1.5 Marks]"
   ]
  },
  {
   "cell_type": "code",
   "execution_count": 6,
   "metadata": {},
   "outputs": [],
   "source": [
    "clause_diff_drink = [\n",
    "\n",
    "    'DCB | DCG | DCO',\n",
    "    'DLB | DLG | DLO',\n",
    "    'DMB | DMG | DMO',\n",
    "\n",
    "    '~(DCB & DCG)', '~(DCB & DCO)', '~(DCG & DCO)',\n",
    "    '~(DLB & DLG)', '~(DLB & DLO)', '~(DLG & DLO)',\n",
    "    '~(DMB & DMG)', '~(DMB & DMO)', '~(DMG & DMO)',\n",
    "\n",
    "    '~(DCB & DLB)', '~(DCB & DMB)', '~(DLB & DMB)',      # Beer\n",
    "    '~(DCG & DLG)', '~(DCG & DMG)', '~(DLG & DMG)',      # Gimlet\n",
    "    '~(DCO & DLO)', '~(DCO & DMO)', '~(DLO & DMO)'       # Orange\n",
    "]"
   ]
  },
  {
   "cell_type": "markdown",
   "metadata": {},
   "source": [
    "### Q2a(iii). Carly loves orange juice but hates white color [0.5 Marks]"
   ]
  },
  {
   "cell_type": "code",
   "execution_count": 10,
   "metadata": {},
   "outputs": [],
   "source": [
    "clause_Carly = ['DCO', '~CCW']"
   ]
  },
  {
   "cell_type": "markdown",
   "metadata": {},
   "source": [
    "### Q2a(iv). Larry hates beer [0.5 Marks] "
   ]
  },
  {
   "cell_type": "code",
   "execution_count": 11,
   "metadata": {},
   "outputs": [],
   "source": [
    "clause_Larry = ['~DLB']"
   ]
  },
  {
   "cell_type": "markdown",
   "metadata": {},
   "source": [
    "### Q2a(v). All Moe’s suits are blue [0.5 Marks]"
   ]
  },
  {
   "cell_type": "code",
   "execution_count": 12,
   "metadata": {},
   "outputs": [],
   "source": [
    "clause_Moe = ['CMB']"
   ]
  },
  {
   "cell_type": "markdown",
   "metadata": {},
   "source": [
    "### Q2a(vi). Adding clauses to the KB [1.5 Marks]\n",
    "\n",
    "Which KB would you select: PropKB/PropDefiniteKB? Instantiate an object with the selected KB and add the clauses to the KB. \n",
    "\n"
   ]
  },
  {
   "cell_type": "code",
   "execution_count": 13,
   "metadata": {},
   "outputs": [
    {
     "name": "stdout",
     "output_type": "stream",
     "text": [
      "KB size: 46 clauses\n"
     ]
    }
   ],
   "source": [
    "puzzle_clauses = clause_diff_color + clause_diff_drink + clause_Carly + clause_Larry + clause_Moe\n",
    "puzzleKB = PropKB()\n",
    "for clause in puzzle_clauses:\n",
    "    puzzleKB.tell(expr(clause))\n",
    "\n",
    "print(f\"KB size: {len(puzzleKB.clauses)} clauses\") "
   ]
  },
  {
   "cell_type": "code",
   "execution_count": 14,
   "metadata": {},
   "outputs": [
    {
     "name": "stdout",
     "output_type": "stream",
     "text": [
      "KB size: 46 clauses\n"
     ]
    }
   ],
   "source": [
    "puzzle_clauses = clause_diff_color + clause_diff_drink + clause_Carly + clause_Larry + clause_Moe\n",
    "puzzleKB = PropKB()\n",
    "for clause in puzzle_clauses:\n",
    "    puzzleKB.tell(expr(clause))\n",
    "\n",
    "print(f\"KB size: {len(puzzleKB.clauses)} clauses\") "
   ]
  },
  {
   "cell_type": "markdown",
   "metadata": {},
   "source": [
    "# Q2b: Reasoning\n",
    "\n",
    "Deduce their preference using propositional logic. To this end, solve the following sub-problems. "
   ]
  },
  {
   "cell_type": "markdown",
   "metadata": {},
   "source": [
    "### Q2b(i) Identify (with justification) two inference algorithms among tt_entails, resolution-refutation, forward chaining and backward chaining algorithms to solve this problem. [1 Marks]    \n",
    "\n"
   ]
  },
  {
   "cell_type": "markdown",
   "metadata": {},
   "source": [
    "Write your answerfor Q2b(i) here."
   ]
  },
  {
   "cell_type": "markdown",
   "metadata": {},
   "source": [
    "### Q2b(ii) Select the best of these two algorithms.  Provide the rationale behind your selection. [1 Marks]\n",
    "\n",
    "Hint: Try solving the problem using both algorithms; it should give you insight in terms of time complexity; Exact time complexity analysis is not needed as it is beyond the scope of this module. \n",
    "\n"
   ]
  },
  {
   "cell_type": "markdown",
   "metadata": {},
   "source": [
    "Write your answer for Q2b(ii) here. \n"
   ]
  },
  {
   "cell_type": "markdown",
   "metadata": {},
   "source": [
    "### Q2b(iii) Solve this problem using the above algorithm [2 Mark]"
   ]
  },
  {
   "cell_type": "markdown",
   "metadata": {},
   "source": [
    "Identify the preferred drink and preferred colors of Carly, Larry and Mou. Use the algorithm selected in Q2b(ii)\n",
    "\n",
    "The results must be stored in the dictionaries drink_dict and color_dict. \n",
    "\n",
    "These two dictionaries are initialized with None; replace them with the correct value. \n",
    "\n",
    "For example:\n",
    "\n",
    "     if Carly likes beer, replace the value corresponding to the key DCB with True. \n",
    "\n",
    "     if Carly likes blue color suit, replace the value corresponding to the key CCB with True. \n",
    "     \n",
    "     if Carly does not like beer, replace the value corresponding to the key DCB with False. \n",
    "\n",
    "     if Carly does not like blue color suit, replace the value corresponding to the key CCB with False. "
   ]
  },
  {
   "cell_type": "code",
   "execution_count": 15,
   "metadata": {},
   "outputs": [],
   "source": [
    "\n",
    "def entails_value(kb, q):\n",
    "    if pl_resolution(kb, q):      \n",
    "        return True\n",
    "    if pl_resolution(kb, ~q):     \n",
    "        return False\n",
    "    return None  "
   ]
  },
  {
   "cell_type": "code",
   "execution_count": 15,
   "metadata": {},
   "outputs": [
    {
     "ename": "KeyboardInterrupt",
     "evalue": "",
     "output_type": "error",
     "traceback": [
      "\u001b[31m---------------------------------------------------------------------------\u001b[39m",
      "\u001b[31mKeyboardInterrupt\u001b[39m                         Traceback (most recent call last)",
      "\u001b[36mCell\u001b[39m\u001b[36m \u001b[39m\u001b[32mIn[15]\u001b[39m\u001b[32m, line 1\u001b[39m\n\u001b[32m----> \u001b[39m\u001b[32m1\u001b[39m drink_symbols = [\u001b[43mDCB\u001b[49m, DLB, DMB, DCG, DLG, DMG, DCO, DLO, DMO]\n\u001b[32m      2\u001b[39m drink_dict = {sym: entails_value(puzzleKB, sym) \u001b[38;5;28;01mfor\u001b[39;00m sym \u001b[38;5;129;01min\u001b[39;00m drink_symbols}\n\u001b[32m      3\u001b[39m \u001b[38;5;28mprint\u001b[39m(\u001b[33m\"\u001b[39m\u001b[33mdrink_dict =\u001b[39m\u001b[33m\"\u001b[39m, drink_dict)\n",
      "\u001b[36mFile \u001b[39m\u001b[32m<stringsource>:69\u001b[39m, in \u001b[36mcfunc.to_py.__Pyx_CFunc_b0409f__29_pydevd_sys_monitoring_cython_object__lParen__etc_to_py_4code_4line.wrap\u001b[39m\u001b[34m()\u001b[39m\n",
      "\u001b[36mFile \u001b[39m\u001b[32m_pydevd_sys_monitoring\\\\_pydevd_sys_monitoring_cython.pyx:1470\u001b[39m, in \u001b[36m_pydevd_sys_monitoring_cython._line_event\u001b[39m\u001b[34m()\u001b[39m\n",
      "\u001b[36mFile \u001b[39m\u001b[32m_pydevd_sys_monitoring\\\\_pydevd_sys_monitoring_cython.pyx:1512\u001b[39m, in \u001b[36m_pydevd_sys_monitoring_cython._internal_line_event\u001b[39m\u001b[34m()\u001b[39m\n",
      "\u001b[36mFile \u001b[39m\u001b[32m_pydevd_sys_monitoring\\\\_pydevd_sys_monitoring_cython.pyx:1313\u001b[39m, in \u001b[36m_pydevd_sys_monitoring_cython._stop_on_breakpoint\u001b[39m\u001b[34m()\u001b[39m\n",
      "\u001b[36mFile \u001b[39m\u001b[32m_pydevd_sys_monitoring\\\\_pydevd_sys_monitoring_cython.pyx:1950\u001b[39m, in \u001b[36m_pydevd_sys_monitoring_cython._do_wait_suspend\u001b[39m\u001b[34m()\u001b[39m\n",
      "\u001b[36mFile \u001b[39m\u001b[32m/Library/Frameworks/Python.framework/Versions/3.12/lib/python3.12/site-packages/debugpy/_vendored/pydevd/pydevd.py:2188\u001b[39m, in \u001b[36mPyDB.do_wait_suspend\u001b[39m\u001b[34m(self, thread, frame, event, arg, exception_type)\u001b[39m\n\u001b[32m   2185\u001b[39m             from_this_thread.append(frame_custom_thread_id)\n\u001b[32m   2187\u001b[39m     \u001b[38;5;28;01mwith\u001b[39;00m \u001b[38;5;28mself\u001b[39m._threads_suspended_single_notification.notify_thread_suspended(thread_id, thread, stop_reason):\n\u001b[32m-> \u001b[39m\u001b[32m2188\u001b[39m         keep_suspended = \u001b[38;5;28;43mself\u001b[39;49m\u001b[43m.\u001b[49m\u001b[43m_do_wait_suspend\u001b[49m\u001b[43m(\u001b[49m\u001b[43mthread\u001b[49m\u001b[43m,\u001b[49m\u001b[43m \u001b[49m\u001b[43mframe\u001b[49m\u001b[43m,\u001b[49m\u001b[43m \u001b[49m\u001b[43mevent\u001b[49m\u001b[43m,\u001b[49m\u001b[43m \u001b[49m\u001b[43marg\u001b[49m\u001b[43m,\u001b[49m\u001b[43m \u001b[49m\u001b[43mtrace_suspend_type\u001b[49m\u001b[43m,\u001b[49m\u001b[43m \u001b[49m\u001b[43mfrom_this_thread\u001b[49m\u001b[43m,\u001b[49m\u001b[43m \u001b[49m\u001b[43mframes_tracker\u001b[49m\u001b[43m)\u001b[49m\n\u001b[32m   2190\u001b[39m frames_list = \u001b[38;5;28;01mNone\u001b[39;00m\n\u001b[32m   2192\u001b[39m \u001b[38;5;28;01mif\u001b[39;00m keep_suspended:\n\u001b[32m   2193\u001b[39m     \u001b[38;5;66;03m# This means that we should pause again after a set next statement.\u001b[39;00m\n",
      "\u001b[36mFile \u001b[39m\u001b[32m/Library/Frameworks/Python.framework/Versions/3.12/lib/python3.12/site-packages/debugpy/_vendored/pydevd/pydevd.py:2257\u001b[39m, in \u001b[36mPyDB._do_wait_suspend\u001b[39m\u001b[34m(self, thread, frame, event, arg, trace_suspend_type, from_this_thread, frames_tracker)\u001b[39m\n\u001b[32m   2254\u001b[39m                 queue.put(internal_cmd)\n\u001b[32m   2255\u001b[39m                 wait_timeout = TIMEOUT_FAST\n\u001b[32m-> \u001b[39m\u001b[32m2257\u001b[39m         \u001b[43mnotify_event\u001b[49m\u001b[43m.\u001b[49m\u001b[43mwait\u001b[49m\u001b[43m(\u001b[49m\u001b[43mwait_timeout\u001b[49m\u001b[43m)\u001b[49m\n\u001b[32m   2258\u001b[39m         notify_event.clear()\n\u001b[32m   2260\u001b[39m \u001b[38;5;28;01mfinally\u001b[39;00m:\n",
      "\u001b[36mFile \u001b[39m\u001b[32m/Library/Frameworks/Python.framework/Versions/3.12/lib/python3.12/threading.py:634\u001b[39m, in \u001b[36mEvent.wait\u001b[39m\u001b[34m(self, timeout)\u001b[39m\n\u001b[32m    632\u001b[39m signaled = \u001b[38;5;28mself\u001b[39m._flag\n\u001b[32m    633\u001b[39m \u001b[38;5;28;01mif\u001b[39;00m \u001b[38;5;129;01mnot\u001b[39;00m signaled:\n\u001b[32m--> \u001b[39m\u001b[32m634\u001b[39m     signaled = \u001b[38;5;28;43mself\u001b[39;49m\u001b[43m.\u001b[49m\u001b[43m_cond\u001b[49m\u001b[43m.\u001b[49m\u001b[43mwait\u001b[49m\u001b[43m(\u001b[49m\u001b[43mtimeout\u001b[49m\u001b[43m)\u001b[49m\n\u001b[32m    635\u001b[39m \u001b[38;5;28;01mreturn\u001b[39;00m signaled\n",
      "\u001b[36mFile \u001b[39m\u001b[32m/Library/Frameworks/Python.framework/Versions/3.12/lib/python3.12/threading.py:338\u001b[39m, in \u001b[36mCondition.wait\u001b[39m\u001b[34m(self, timeout)\u001b[39m\n\u001b[32m    336\u001b[39m \u001b[38;5;28;01melse\u001b[39;00m:\n\u001b[32m    337\u001b[39m     \u001b[38;5;28;01mif\u001b[39;00m timeout > \u001b[32m0\u001b[39m:\n\u001b[32m--> \u001b[39m\u001b[32m338\u001b[39m         gotit = \u001b[43mwaiter\u001b[49m\u001b[43m.\u001b[49m\u001b[43macquire\u001b[49m\u001b[43m(\u001b[49m\u001b[38;5;28;43;01mTrue\u001b[39;49;00m\u001b[43m,\u001b[49m\u001b[43m \u001b[49m\u001b[43mtimeout\u001b[49m\u001b[43m)\u001b[49m\n\u001b[32m    339\u001b[39m     \u001b[38;5;28;01melse\u001b[39;00m:\n\u001b[32m    340\u001b[39m         gotit = waiter.acquire(\u001b[38;5;28;01mFalse\u001b[39;00m)\n",
      "\u001b[31mKeyboardInterrupt\u001b[39m: "
     ]
    }
   ],
   "source": [
    "drink_symbols = [DCB, DLB, DMB, DCG, DLG, DMG, DCO, DLO, DMO]\n",
    "drink_dict = {sym: entails_value(puzzleKB, sym) for sym in drink_symbols}\n",
    "print(\"drink_dict =\", drink_dict)"
   ]
  },
  {
   "cell_type": "code",
   "execution_count": null,
   "metadata": {},
   "outputs": [],
   "source": [
    "color_symbols = [CCB, CLB, CMB, CCG, CLG, CMG, CCW, CLW, CMW]\n",
    "color_dict = {sym: entails_value(puzzleKB, sym) for sym in color_symbols}\n",
    "print(\"color_dict =\", color_dict)"
   ]
  },
  {
   "cell_type": "code",
   "execution_count": null,
   "metadata": {},
   "outputs": [],
   "source": [
    "\n",
    "def prove(kb, q):\n",
    "    return pl_resolution(kb, q)\n",
    "\n",
    "carly_drinks  = [DCB, DCG, DCO]\n",
    "larry_drinks  = [DLB, DLG, DLO]\n",
    "mou_drinks    = [DMB, DMG, DMO]\n",
    "\n",
    "def solve_one_of(kb, candidates):\n",
    "    truth = {c: False for c in candidates}\n",
    "    for c in candidates:\n",
    "        if prove(kb, c):       \n",
    "            truth[c] = True\n",
    "            return truth\n",
    "    return truth  \n",
    "drink_dict = {}\n",
    "for group in [carly_drinks, larry_drinks, mou_drinks]:\n",
    "    drink_dict.update(solve_one_of(puzzleKB, group))\n",
    "print(\"drink_dict =\", drink_dict)\n",
    "\n",
    "carly_colors = [CCB, CCG, CCW]\n",
    "larry_colors = [CLB, CLG, CLW]\n",
    "mou_colors   = [CMB, CMG, CMW]\n",
    "\n",
    "color_dict = {}\n",
    "for group in [carly_colors, larry_colors, mou_colors]:\n",
    "    color_dict.update(solve_one_of(puzzleKB, group))\n",
    "print(\"color_dict =\", color_dict)\n"
   ]
  },
  {
   "cell_type": "code",
   "execution_count": null,
   "metadata": {},
   "outputs": [],
   "source": []
  }
 ],
 "metadata": {
  "kernelspec": {
   "display_name": "Python 3",
   "language": "python",
   "name": "python3"
  },
  "language_info": {
   "codemirror_mode": {
    "name": "ipython",
    "version": 3
   },
   "file_extension": ".py",
   "mimetype": "text/x-python",
   "name": "python",
   "nbconvert_exporter": "python",
   "pygments_lexer": "ipython3",
   "version": "3.12.0"
  }
 },
 "nbformat": 4,
 "nbformat_minor": 2
}
