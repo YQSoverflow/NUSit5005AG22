{
 "cells": [
  {
   "cell_type": "markdown",
   "metadata": {},
   "source": [
    "Group Name: AG xx.\n",
    "\n",
    "Student Name (Student ID):\n",
    "\n",
    "1. xxxx xxxxx (xxxxxxx)\n",
    "\n",
    "2. xxxx xxxxx (xxxxxxx)\n",
    "\n",
    "3. xxxx xxxxx (xxxxxxx)\n",
    "\n",
    "4. xxxx xxxxx (xxxxxxx)"
   ]
  },
  {
   "cell_type": "markdown",
   "metadata": {},
   "source": [
    "# **Question 2** \n",
    "\n",
    "Three stooges (namely, Carly, Larry, and Mou) are going to a party. Each wears different colors of suits (blue, green, and white), and they like different types of drinks (orange juice, beer, gimlet). The dress color and drink preferences are as follows. Carly loves orange juice, but hates the white color. Larry hates beer.  All Moe’s suits are blue\n",
    "\n",
    "  \n",
    "## Q2a: Representation\n",
    "\n",
    "Convert the given problem into propositional sentences. Follow the guidelines shown below while defining propositional variables.   [6 Marks]\n",
    "\n",
    "Use three characters to represent propositional variables as 'DXX' and 'CXX'. Description of the characters in the variable is provided below:\n",
    " \n",
    "(i)   'DXX':\n",
    "    \n",
    "       First character 'D' indicates that the variable corresponds to drink\n",
    "    \n",
    "       Second character represents person. \n",
    "    \n",
    "            C: Carly\n",
    "        \n",
    "            L: Larry\n",
    "        \n",
    "            M: Mou\n",
    "    \n",
    "        Third character represents name of specific drink\n",
    "    \n",
    "            O: Orange Juice\n",
    "    \n",
    "            B: Beer\n",
    "    \n",
    "            G: Gimlet\n",
    "\n",
    "        Example:   DCB represents 'Carly likes Beer'  \n",
    "\n",
    "        \n",
    "(ii)   'CXX':\n",
    "\n",
    "            First character 'C' indicates color of the suite\n",
    "        \n",
    "            Second character represents person\n",
    "        \n",
    "                C: Carly\n",
    "        \n",
    "                L: Larry\n",
    "        \n",
    "                M: Mou\n",
    "        \n",
    "            Third character represents name of specific color\n",
    "        \n",
    "                B: Blue\n",
    "        \n",
    "                G: Green\n",
    "        \n",
    "                W: White\n",
    "\n",
    "        Example:    CCB  represents  'Carly likes Blue colored suit'\n",
    "\n",
    "\n",
    "\n",
    "## Q2b: Reasoning\n",
    "\n",
    "Deduce their preference using propositional logic. To this end, solve the following sub-problems. [4 Marks]\n",
    "\n",
    "    (i) Identify (with justification) two inference algorithms among tt_entails, resolution-refutation, forward chaining and backward chaining algorithms to solve this problem.  [1 Marks]\n",
    "    \n",
    "\n",
    "    (ii) Select the best of the two algorithms selected in part (i).  Provide the rationale behind your selection. [1 Marks]\n",
    "\n",
    "    (ii) Solve this problem using the algorithm selected in part (ii)[2 Mark]"
   ]
  },
  {
   "cell_type": "code",
   "execution_count": 2,
   "metadata": {},
   "outputs": [],
   "source": [
    "from logic_ import *\n",
    "from utils import *"
   ]
  },
  {
   "cell_type": "markdown",
   "metadata": {},
   "source": [
    "# Q2a. Representation\n",
    "\n",
    "The variables are defined below"
   ]
  },
  {
   "cell_type": "code",
   "execution_count": 3,
   "metadata": {},
   "outputs": [],
   "source": [
    "#Variables\n",
    "(DCB, DLB, DMB, DCG, DLG, DMG, DCO, DLO, DMO) = expr('DCB, DLB, DMB, DCG, DLG, DMG, DCO, DLO, DMO')\n",
    "(CCB, CLB, CMB, CCG, CLG, CMG, CCW, CLW, CMW) = expr('CCB, CLB, CMB, CCG, CLG, CMG, CCW, CLW, CMW')"
   ]
  },
  {
   "cell_type": "markdown",
   "metadata": {},
   "source": [
    "## Building the KB\n",
    "\n",
    "Convert the following five sentences into propositional sentences."
   ]
  },
  {
   "cell_type": "markdown",
   "metadata": {},
   "source": [
    "### Q2a(i). Each wears different colors of suits (green, blue,  and white) [1.5 Marks]"
   ]
  },
  {
   "cell_type": "code",
   "execution_count": 4,
   "metadata": {},
   "outputs": [],
   "source": [
    "clause_diff_color = [\n",
    "    CCB | CCG | CCW,\n",
    "    CLB | CLG | CLW,\n",
    "    CMB | CMG | CMW,\n",
    "\n",
    "    ~CCB | ~CCG, ~CCB | ~CCW, ~CCG | ~CCW,\n",
    "    ~CLB | ~CLG, ~CLB | ~CLW, ~CLG | ~CLW,\n",
    "    ~CMB | ~CMG, ~CMB | ~CMW, ~CMG | ~CMW,\n",
    "\n",
    "    ~CCB | ~CLB, ~CCB | ~CMB, ~CLB | ~CMB,\n",
    "    ~CCG | ~CLG, ~CCG | ~CMG, ~CLG | ~CMG,\n",
    "    ~CCW | ~CLW, ~CCW | ~CMW, ~CLW | ~CMW\n",
    "]"
   ]
  },
  {
   "cell_type": "markdown",
   "metadata": {},
   "source": [
    "### Q2a(ii). Each likes different drinks (orange juice, gin and beer)  [1.5 Marks]"
   ]
  },
  {
   "cell_type": "code",
   "execution_count": 5,
   "metadata": {},
   "outputs": [],
   "source": [
    "clause_diff_drink = [\n",
    "    DCB | DCG | DCO,\n",
    "    DLB | DLG | DLO,\n",
    "    DMB | DMG | DMO,\n",
    "\n",
    "    ~DCB | ~DCG, ~DCB | ~DCO, ~DCG | ~DCO,\n",
    "    ~DLB | ~DLG, ~DLB | ~DLO, ~DLG | ~DLO,\n",
    "    ~DMB | ~DMG, ~DMB | ~DMO, ~DMG | ~DMO,\n",
    "\n",
    "    ~DCB | ~DLB, ~DCB | ~DMB, ~DLB | ~DMB,\n",
    "    ~DCG | ~DLG, ~DCG | ~DMG, ~DLG | ~DMG,\n",
    "    ~DCO | ~DLO, ~DCO | ~DMO, ~DLO | ~DMO\n",
    "]"
   ]
  },
  {
   "cell_type": "markdown",
   "metadata": {},
   "source": [
    "### Q2a(iii). Carly loves orange juice but hates white color [0.5 Marks]"
   ]
  },
  {
   "cell_type": "code",
   "execution_count": null,
   "metadata": {},
   "outputs": [],
   "source": [
    "clause_Carly = [\n",
    "    DCO,\n",
    "    ~DLO, ~DMO,\n",
    "    ~CCW\n",
    "]"
   ]
  },
  {
   "cell_type": "markdown",
   "metadata": {},
   "source": [
    "### Q2a(iv). Larry hates beer [0.5 Marks] "
   ]
  },
  {
   "cell_type": "code",
   "execution_count": 8,
   "metadata": {},
   "outputs": [],
   "source": [
    "clause_Larry = [\n",
    "    ~DLB\n",
    "]"
   ]
  },
  {
   "cell_type": "markdown",
   "metadata": {},
   "source": [
    "### Q2a(v). All Moe’s suits are blue [0.5 Marks]"
   ]
  },
  {
   "cell_type": "code",
   "execution_count": 9,
   "metadata": {},
   "outputs": [],
   "source": [
    "clause_Moe = [\n",
    "    CMB,\n",
    "    ~CMG,\n",
    "    ~CMW\n",
    "]"
   ]
  },
  {
   "cell_type": "markdown",
   "metadata": {},
   "source": [
    "### Q2a(vi). Adding clauses to the KB [1.5 Marks]\n",
    "\n",
    "Which KB would you select: PropKB/PropDefiniteKB? Instantiate an object with the selected KB and add the clauses to the KB. \n",
    "\n"
   ]
  },
  {
   "cell_type": "markdown",
   "metadata": {},
   "source": [
    "**Answer:**\n",
    "\n",
    "PropKB:\n",
    "A general propositional logic knowledge base that can store and reason with arbitrary propositional clauses, including clauses with negation, disjunction, and other complex expressions.\n",
    "\n",
    "PropDefiniteKB:\n",
    "A knowledge base that can only store definite clauses, suitable for forward and backward chaining inference.\n",
    "\n",
    "This problem involves arbitrary propositional clauses, so **PropKB** must be used."
   ]
  },
  {
   "cell_type": "code",
   "execution_count": 10,
   "metadata": {},
   "outputs": [],
   "source": [
    "puzzle_clauses = clause_diff_color + clause_diff_drink + clause_Carly + clause_Larry + clause_Moe"
   ]
  },
  {
   "cell_type": "code",
   "execution_count": 11,
   "metadata": {},
   "outputs": [
    {
     "name": "stdout",
     "output_type": "stream",
     "text": [
      "[(CCB | CCG | CCW), (CLB | CLG | CLW), (CMB | CMG | CMW), (~CCB | ~CCG), (~CCB | ~CCW), (~CCG | ~CCW), (~CLB | ~CLG), (~CLB | ~CLW), (~CLG | ~CLW), (~CMB | ~CMG), (~CMB | ~CMW), (~CMG | ~CMW), (~CCB | ~CLB), (~CCB | ~CMB), (~CLB | ~CMB), (~CCG | ~CLG), (~CCG | ~CMG), (~CLG | ~CMG), (~CCW | ~CLW), (~CCW | ~CMW), (~CLW | ~CMW), (DCB | DCG | DCO), (DLB | DLG | DLO), (DMB | DMG | DMO), (~DCB | ~DCG), (~DCB | ~DCO), (~DCG | ~DCO), (~DLB | ~DLG), (~DLB | ~DLO), (~DLG | ~DLO), (~DMB | ~DMG), (~DMB | ~DMO), (~DMG | ~DMO), (~DCB | ~DLB), (~DCB | ~DMB), (~DLB | ~DMB), (~DCG | ~DLG), (~DCG | ~DMG), (~DLG | ~DMG), (~DCO | ~DLO), (~DCO | ~DMO), (~DLO | ~DMO), DCO, ~CCW, ~DLB, CMB, ~CMG, ~CMW]\n"
     ]
    }
   ],
   "source": [
    "puzzleKB =   PropKB()\n",
    "for clause in puzzle_clauses:\n",
    "    puzzleKB.tell(expr(clause))\n",
    "\n",
    "print(puzzleKB.clauses)"
   ]
  },
  {
   "cell_type": "markdown",
   "metadata": {},
   "source": [
    "# Q2b: Reasoning\n",
    "\n",
    "Deduce their preference using propositional logic. To this end, solve the following sub-problems. "
   ]
  },
  {
   "cell_type": "markdown",
   "metadata": {},
   "source": [
    "### Q2b(i) Identify (with justification) two inference algorithms among tt_entails, resolution-refutation, forward chaining and backward chaining algorithms to solve this problem. [1 Marks]    \n",
    "\n"
   ]
  },
  {
   "cell_type": "markdown",
   "metadata": {},
   "source": [
    "Write your answerfor Q2b(i) here."
   ]
  },
  {
   "cell_type": "markdown",
   "metadata": {},
   "source": [
    "**Answer:**\n",
    "\n",
    "tt_entails and resolution-refutation.\n",
    "\n",
    "tt_entails can handle arbitrary propositional knowledge bases, and resolution-refutation is well suited to handle knowledge bases containing conjunctive normal form clauses.\n",
    "\n",
    "Forward chaining and backward chaining are efficient algorithms, but only for knowledge bases consisting of definite clauses (Horn clauses), whereas our knowledge bases contain disjunctions and negations, so these algorithms are not suitable."
   ]
  },
  {
   "cell_type": "markdown",
   "metadata": {},
   "source": [
    "### Q2b(ii) Select the best of these two algorithms.  Provide the rationale behind your selection. [1 Marks]\n",
    "\n",
    "Hint: Try solving the problem using both algorithms; it should give you insight in terms of time complexity; Exact time complexity analysis is not needed as it is beyond the scope of this module. \n",
    "\n"
   ]
  },
  {
   "cell_type": "markdown",
   "metadata": {},
   "source": [
    "Write your answer for Q2b(ii) here. \n"
   ]
  },
  {
   "cell_type": "markdown",
   "metadata": {},
   "source": [
    "**Answer:**\n",
    "Solving the problem using both algorithms."
   ]
  },
  {
   "cell_type": "code",
   "execution_count": null,
   "metadata": {},
   "outputs": [
    {
     "name": "stdout",
     "output_type": "stream",
     "text": [
      "DCO is True\n",
      "Time taken on query DCO using tt_entails: 3.929 s\n",
      "DCO is True\n",
      "Time taken on query DCO using resolution-refutation: 0.030 s\n",
      "CMB is True\n",
      "Time taken on query CMB using tt_entails: 3.949 s\n",
      "CMB is True\n",
      "Time taken on query CMB using resolution-refutation: 0.013 s\n",
      "((CCB | CMB) | CLB) is True\n",
      "Time taken on query ((CCB | CMB) | CLB) using tt_entails: 3.998 s\n",
      "((CCB | CMB) | CLB) is True\n",
      "Time taken on query ((CCB | CMB) | CLB) using resolution-refutation: 0.013 s\n",
      "(~CLB | ~CMB) is True\n",
      "Time taken on query (~CLB | ~CMB) using tt_entails: 3.980 s\n",
      "(~CLB | ~CMB) is True\n",
      "Time taken on query (~CLB | ~CMB) using resolution-refutation: 0.098 s\n"
     ]
    }
   ],
   "source": [
    "from time import time\n",
    "\n",
    "TEST_NUM = 3  # Number of test repetitions\n",
    "\n",
    "def test_tt(query, kb):\n",
    "    start = time()\n",
    "    for _ in range(TEST_NUM):\n",
    "        result = kb.ask_if_true(query)\n",
    "    end = time()\n",
    "    print(\"{} is {}\".format(query, result))\n",
    "    print(\"Time taken on query {} using tt_entails: {:.3f} s\".format(query, (end-start)/TEST_NUM))\n",
    "\n",
    "def test_pl(query, kb):\n",
    "    start = time()\n",
    "    for _ in range(TEST_NUM):\n",
    "        result = pl_resolution(kb, query)\n",
    "    end = time()\n",
    "    print(\"{} is {}\".format(query, result))\n",
    "    print(\"Time taken on query {} using resolution-refutation: {:.3f} s\".format(query, (end-start)/TEST_NUM))\n",
    "\n",
    "# Results will be available within 5 seconds\n",
    "test_tt(DCO, puzzleKB)\n",
    "test_pl(DCO, puzzleKB)\n",
    "test_tt(CMB, puzzleKB)\n",
    "test_pl(CMB, puzzleKB)\n",
    "test_tt(CCB|CMB|CLB, puzzleKB)\n",
    "test_pl(CCB|CMB|CLB, puzzleKB)\n",
    "test_tt((~CLB|~CMB), puzzleKB)\n",
    "test_pl((~CLB|~CMB), puzzleKB) "
   ]
  },
  {
   "cell_type": "code",
   "execution_count": 16,
   "metadata": {},
   "outputs": [
    {
     "name": "stdout",
     "output_type": "stream",
     "text": [
      "{DCB: False, DLB: False, DMB: True, DCG: False, DLG: True, DMG: False, DCO: True, DLO: False, DMO: False}\n"
     ]
    }
   ],
   "source": [
    "drink_dict = {}\n",
    "for symbs in [DCB, DLB, DMB, DCG, DLG, DMG, DCO, DLO, DMO]:\n",
    "    drink_dict[symbs] = puzzleKB.ask_if_true(symbs)\n",
    "    \n",
    "print(drink_dict)"
   ]
  },
  {
   "cell_type": "markdown",
   "metadata": {},
   "source": [
    "Results will be available within 30 seconds."
   ]
  },
  {
   "cell_type": "code",
   "execution_count": 18,
   "metadata": {},
   "outputs": [
    {
     "ename": "KeyboardInterrupt",
     "evalue": "",
     "output_type": "error",
     "traceback": [
      "\u001b[31m---------------------------------------------------------------------------\u001b[39m",
      "\u001b[31mKeyboardInterrupt\u001b[39m                         Traceback (most recent call last)",
      "\u001b[36mCell\u001b[39m\u001b[36m \u001b[39m\u001b[32mIn[18]\u001b[39m\u001b[32m, line 3\u001b[39m\n\u001b[32m      1\u001b[39m drink_dict = {}\n\u001b[32m      2\u001b[39m \u001b[38;5;28;01mfor\u001b[39;00m symbs \u001b[38;5;129;01min\u001b[39;00m [DCB, DLB, DMB, DCG, DLG, DMG, DCO, DLO, DMO]:\n\u001b[32m----> \u001b[39m\u001b[32m3\u001b[39m     drink_dict[symbs] = \u001b[43mpl_resolution\u001b[49m\u001b[43m(\u001b[49m\u001b[43mpuzzleKB\u001b[49m\u001b[43m,\u001b[49m\u001b[43m \u001b[49m\u001b[43msymbs\u001b[49m\u001b[43m)\u001b[49m    \n\u001b[32m      5\u001b[39m \u001b[38;5;28mprint\u001b[39m(drink_dict)\n",
      "\u001b[36mFile \u001b[39m\u001b[32md:\\IT5005\\assignment\\L2\\logic_.py:474\u001b[39m, in \u001b[36mpl_resolution\u001b[39m\u001b[34m(kb, alpha)\u001b[39m\n\u001b[32m    471\u001b[39m pairs = [(clauses[i], clauses[j])\n\u001b[32m    472\u001b[39m          \u001b[38;5;28;01mfor\u001b[39;00m i \u001b[38;5;129;01min\u001b[39;00m \u001b[38;5;28mrange\u001b[39m(n) \u001b[38;5;28;01mfor\u001b[39;00m j \u001b[38;5;129;01min\u001b[39;00m \u001b[38;5;28mrange\u001b[39m(i + \u001b[32m1\u001b[39m, n)]\n\u001b[32m    473\u001b[39m \u001b[38;5;28;01mfor\u001b[39;00m (ci, cj) \u001b[38;5;129;01min\u001b[39;00m pairs:\n\u001b[32m--> \u001b[39m\u001b[32m474\u001b[39m     resolvents = \u001b[43mpl_resolve\u001b[49m\u001b[43m(\u001b[49m\u001b[43mci\u001b[49m\u001b[43m,\u001b[49m\u001b[43m \u001b[49m\u001b[43mcj\u001b[49m\u001b[43m)\u001b[49m\n\u001b[32m    475\u001b[39m     \u001b[38;5;28;01mif\u001b[39;00m \u001b[38;5;28;01mFalse\u001b[39;00m \u001b[38;5;129;01min\u001b[39;00m resolvents:\n\u001b[32m    476\u001b[39m         \u001b[38;5;28;01mreturn\u001b[39;00m \u001b[38;5;28;01mTrue\u001b[39;00m\n",
      "\u001b[36mFile \u001b[39m\u001b[32md:\\IT5005\\assignment\\L2\\logic_.py:485\u001b[39m, in \u001b[36mpl_resolve\u001b[39m\u001b[34m(ci, cj)\u001b[39m\n\u001b[32m    481\u001b[39m             \u001b[38;5;28;01mif\u001b[39;00m c \u001b[38;5;129;01mnot\u001b[39;00m \u001b[38;5;129;01min\u001b[39;00m clauses:\n\u001b[32m    482\u001b[39m                 clauses.append(c)\n\u001b[32m--> \u001b[39m\u001b[32m485\u001b[39m \u001b[38;5;28;01mdef\u001b[39;00m\u001b[38;5;250m \u001b[39m\u001b[34mpl_resolve\u001b[39m(ci, cj):\n\u001b[32m    486\u001b[39m \u001b[38;5;250m    \u001b[39m\u001b[33;03m\"\"\"Return all clauses that can be obtained by resolving clauses ci and cj.\"\"\"\u001b[39;00m\n\u001b[32m    487\u001b[39m     clauses = []\n",
      "\u001b[31mKeyboardInterrupt\u001b[39m: "
     ]
    }
   ],
   "source": [
    "drink_dict = {}\n",
    "for symbs in [DCB, DLB, DMB, DCG, DLG, DMG, DCO, DLO, DMO]:\n",
    "    drink_dict[symbs] = pl_resolution(puzzleKB, symbs)    \n",
    "\n",
    "print(drink_dict)"
   ]
  },
  {
   "cell_type": "markdown",
   "metadata": {},
   "source": [
    "No results within 30 minutes."
   ]
  },
  {
   "cell_type": "code",
   "execution_count": 17,
   "metadata": {},
   "outputs": [
    {
     "name": "stdout",
     "output_type": "stream",
     "text": [
      "{CCB: False, CLB: False, CMB: True, CCG: True, CLG: False, CMG: False, CCW: False, CLW: True, CMW: False}\n"
     ]
    }
   ],
   "source": [
    "color_dict = {}\n",
    "for symbs in (CCB, CLB, CMB, CCG, CLG, CMG, CCW, CLW, CMW):\n",
    "    color_dict[symbs] = puzzleKB.ask_if_true(symbs)  \n",
    "    \n",
    "print(color_dict)"
   ]
  },
  {
   "cell_type": "markdown",
   "metadata": {},
   "source": [
    "Results will be available within 30 seconds."
   ]
  },
  {
   "cell_type": "code",
   "execution_count": 19,
   "metadata": {},
   "outputs": [
    {
     "ename": "KeyboardInterrupt",
     "evalue": "",
     "output_type": "error",
     "traceback": [
      "\u001b[31m---------------------------------------------------------------------------\u001b[39m",
      "\u001b[31mKeyboardInterrupt\u001b[39m                         Traceback (most recent call last)",
      "\u001b[36mCell\u001b[39m\u001b[36m \u001b[39m\u001b[32mIn[19]\u001b[39m\u001b[32m, line 3\u001b[39m\n\u001b[32m      1\u001b[39m color_dict = {}\n\u001b[32m      2\u001b[39m \u001b[38;5;28;01mfor\u001b[39;00m symbs \u001b[38;5;129;01min\u001b[39;00m (CCB, CLB, CMB, CCG, CLG, CMG, CCW, CLW, CMW):\n\u001b[32m----> \u001b[39m\u001b[32m3\u001b[39m     color_dict[symbs] =  \u001b[43mpl_resolution\u001b[49m\u001b[43m(\u001b[49m\u001b[43mpuzzleKB\u001b[49m\u001b[43m,\u001b[49m\u001b[43m \u001b[49m\u001b[43msymbs\u001b[49m\u001b[43m)\u001b[49m\n\u001b[32m      5\u001b[39m \u001b[38;5;28mprint\u001b[39m(color_dict)\n",
      "\u001b[36mFile \u001b[39m\u001b[32md:\\IT5005\\assignment\\L2\\logic_.py:477\u001b[39m, in \u001b[36mpl_resolution\u001b[39m\u001b[34m(kb, alpha)\u001b[39m\n\u001b[32m    475\u001b[39m     \u001b[38;5;28;01mif\u001b[39;00m \u001b[38;5;28;01mFalse\u001b[39;00m \u001b[38;5;129;01min\u001b[39;00m resolvents:\n\u001b[32m    476\u001b[39m         \u001b[38;5;28;01mreturn\u001b[39;00m \u001b[38;5;28;01mTrue\u001b[39;00m\n\u001b[32m--> \u001b[39m\u001b[32m477\u001b[39m     new = new.union(\u001b[38;5;28mset\u001b[39m(resolvents))\n\u001b[32m    478\u001b[39m \u001b[38;5;28;01mif\u001b[39;00m new.issubset(\u001b[38;5;28mset\u001b[39m(clauses)):\n\u001b[32m    479\u001b[39m     \u001b[38;5;28;01mreturn\u001b[39;00m \u001b[38;5;28;01mFalse\u001b[39;00m\n",
      "\u001b[31mKeyboardInterrupt\u001b[39m: "
     ]
    }
   ],
   "source": [
    "color_dict = {}\n",
    "for symbs in (CCB, CLB, CMB, CCG, CLG, CMG, CCW, CLW, CMW):\n",
    "    color_dict[symbs] =  pl_resolution(puzzleKB, symbs)\n",
    "    \n",
    "print(color_dict)"
   ]
  },
  {
   "cell_type": "markdown",
   "metadata": {},
   "source": [
    "No results within 30 minutes."
   ]
  },
  {
   "cell_type": "markdown",
   "metadata": {},
   "source": [
    "Using `resolution-refutation` algorithm is much quicker than `truth table entails` algorithm. \n",
    "\n",
    "However, `resolution-refutation` with CNF clauses is a lot slower compared to using horned clauses. \n",
    "\n",
    "This is because each step could lead to multiple intermediate clauses which would cause the number of models to increase exponentially. \n",
    "\n",
    "At the same time, ~CCW, for example, is very difficult to express in horned clause form, causing us not being able to express the models properly in horned clause form.\n",
    "\n",
    "This makes using `truth table entails` better in this case because the number of models is limited and there is no limitation on the clauses."
   ]
  },
  {
   "cell_type": "markdown",
   "metadata": {},
   "source": [
    "### Q2b(iii) Solve this problem using the above algorithm [2 Mark]"
   ]
  },
  {
   "cell_type": "markdown",
   "metadata": {},
   "source": [
    "Identify the preferred drink and preferred colors of Carly, Larry and Mou. Use the algorithm selected in Q2b(ii)\n",
    "\n",
    "The results must be stored in the dictionaries drink_dict and color_dict. \n",
    "\n",
    "These two dictionaries are initialized with None; replace them with the correct value. \n",
    "\n",
    "For example:\n",
    "\n",
    "     if Carly likes beer, replace the value corresponding to the key DCB with True. \n",
    "\n",
    "     if Carly likes blue color suit, replace the value corresponding to the key CCB with True. \n",
    "     \n",
    "     if Carly does not like beer, replace the value corresponding to the key DCB with False. \n",
    "\n",
    "     if Carly does not like blue color suit, replace the value corresponding to the key CCB with False. "
   ]
  },
  {
   "cell_type": "code",
   "execution_count": 20,
   "metadata": {},
   "outputs": [],
   "source": [
    "drink_dict =   { DCB: False,\n",
    "                 DLB: False,\n",
    "                 DMB: True,\n",
    "                 DCG: False,\n",
    "                 DLG: True,\n",
    "                 DMG: False,\n",
    "                 DCO: True,\n",
    "                 DLO: False,\n",
    "                 DMO: False }\n",
    "\n",
    "\n",
    "\n",
    "color_dict =   { CCB: False,\n",
    "                 CLB: False,\n",
    "                 CMB: True,\n",
    "                 CCG: True,\n",
    "                 CLG: False,\n",
    "                 CMG: False,\n",
    "                 CCW: False,\n",
    "                 CLW: True,\n",
    "                 CMW: False }"
   ]
  },
  {
   "cell_type": "code",
   "execution_count": 21,
   "metadata": {},
   "outputs": [
    {
     "name": "stdout",
     "output_type": "stream",
     "text": [
      "{DCB: False, DLB: False, DMB: True, DCG: False, DLG: True, DMG: False, DCO: True, DLO: False, DMO: False}\n"
     ]
    }
   ],
   "source": [
    "drink_dict = {}\n",
    "for symbs in [DCB, DLB, DMB, DCG, DLG, DMG, DCO, DLO, DMO]:\n",
    "    drink_dict[symbs] = puzzleKB.ask_if_true(symbs)\n",
    "    \n",
    "print(drink_dict)"
   ]
  },
  {
   "cell_type": "code",
   "execution_count": 22,
   "metadata": {},
   "outputs": [
    {
     "name": "stdout",
     "output_type": "stream",
     "text": [
      "{CCB: False, CLB: False, CMB: True, CCG: True, CLG: False, CMG: False, CCW: False, CLW: True, CMW: False}\n"
     ]
    }
   ],
   "source": [
    "color_dict = {}\n",
    "for symbs in (CCB, CLB, CMB, CCG, CLG, CMG, CCW, CLW, CMW):\n",
    "    color_dict[symbs] = puzzleKB.ask_if_true(symbs)  \n",
    "    \n",
    "print(color_dict)"
   ]
  }
 ],
 "metadata": {
  "kernelspec": {
   "display_name": "myenv",
   "language": "python",
   "name": "python3"
  },
  "language_info": {
   "codemirror_mode": {
    "name": "ipython",
    "version": 3
   },
   "file_extension": ".py",
   "mimetype": "text/x-python",
   "name": "python",
   "nbconvert_exporter": "python",
   "pygments_lexer": "ipython3",
   "version": "3.11.13"
  }
 },
 "nbformat": 4,
 "nbformat_minor": 2
}
